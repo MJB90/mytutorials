{
 "cells": [
  {
   "cell_type": "code",
   "execution_count": 117,
   "metadata": {
    "collapsed": true
   },
   "outputs": [],
   "source": [
    "## Lets start the basic session"
   ]
  },
  {
   "cell_type": "code",
   "execution_count": 118,
   "metadata": {
    "collapsed": true
   },
   "outputs": [],
   "source": [
    "# Import required libraries. Can also import libraries later in the code (but that is not considered as a good coding practice) \n",
    "\n",
    "import os                   # os library is used to run operating system commands (rename/copy files, change working dir etc.)\n",
    "import sys                  # sys is used for system commands (read inline arguments, clear output stream etc.)\n",
    "import csv                  # csv module. Useful for reading/writing csv files.\n",
    "import gzip                 # for reading zipped (.gz) files\n",
    "import datetime             # datetime functionality\n",
    "import numpy as np          # numpy (numerical python) is used for most numerical computations (matrix operations etc.)\n",
    "                            # 'as' creates an alias for the library. Now we can acces numpy lib by just using np instead of numpy"
   ]
  },
  {
   "cell_type": "code",
   "execution_count": 119,
   "metadata": {
    "collapsed": false
   },
   "outputs": [
    {
     "name": "stdout",
     "output_type": "stream",
     "text": [
      "A print statement is used to write any text/object to the console. Syntax: print <text/object>\n",
      "\n",
      "Testing the function of newline character.\n",
      "This should be printed in a new line.\n",
      "Notice that using a newline or directly pressing 'Enter' on the keyboard work similarly.\n",
      "Now inserting a tab \t here. \n",
      "\t\t Can use any combination of both together.\n",
      "\n",
      "<type 'str'>\n"
     ]
    }
   ],
   "source": [
    "# Set the current working directory\n",
    "os.chdir('C:\\\\Users\\\\tpatra\\\\Desktop\\\\NewHireTraining\\\\')      # double backslash here since '\\' is an escape character\n",
    "# Alternatively\n",
    "os.chdir('C:/Users/tpatra/Desktop/NewHireTraining/')      # double backslash here since '\\' is an escape character\n",
    "\n",
    "print \"A print statement is used to write any text/object to the console. Syntax: print <text/object>\"\n",
    "\n",
    "# There are some special characters which are commonly used. A \\n(newline) is used to jump to the next line.\n",
    "# Similarly a \\t is used to insert a tab into the string.\n",
    "# These characters are not printed to the console. \n",
    "testString = '''\\nTesting the function of newline character.\\nThis should be printed in a new line.\n",
    "Notice that using a newline or directly pressing 'Enter' on the keyboard work similarly.\n",
    "Now inserting a tab \\t here. \\n\\t\\t Can use any combination of both together.\\n'''\n",
    "print testString\n",
    "print type(testString)"
   ]
  },
  {
   "cell_type": "code",
   "execution_count": 120,
   "metadata": {
    "collapsed": false
   },
   "outputs": [
    {
     "name": "stdout",
     "output_type": "stream",
     "text": [
      "Any random text here\n",
      "<type 'str'>\n",
      "In python every string should start and end with a quote character (that is how python defines a string). \n",
      "Any of the following can be used to enclose a string:\n",
      "    1. Single quote (') : Single line string\n",
      "    2. Double quote (\") : Single line string\n",
      "    3. Triple-Single quote (using three ' together) : Multi-line string\n",
      "    4. Triple-Double quote (using \" three times together) as is done in this statement : Multi-line string\n",
      "Once a string is started using a given type of quote, only that character can be used to end the string as well.\n",
      "All other types of quote characters will be considered as part of the string itself.\n",
      "<type 'str'>\n"
     ]
    }
   ],
   "source": [
    "# STRINGS\n",
    "# A string in python is any sequence of characters (of any length). String are always enclosed within quotes.\n",
    "# Sequences are ordered collections of data. Their elements can be indexed by integers indicating positions.\n",
    "# Syntax: seq1 + seq2\n",
    "\n",
    "a = 'Any random text here'\n",
    "print a\n",
    "print type(a)           # type is an inbuilt python function that returns the data-type(called class in python) of an object\n",
    "\n",
    "b = \"\"\"In python every string should start and end with a quote character (that is how python defines a string). \n",
    "Any of the following can be used to enclose a string:\n",
    "    1. Single quote (') : Single line string\n",
    "    2. Double quote (\") : Single line string\n",
    "    3. Triple-Single quote (using three ' together) : Multi-line string\n",
    "    4. Triple-Double quote (using \" three times together) as is done in this statement : Multi-line string\n",
    "Once a string is started using a given type of quote, only that character can be used to end the string as well.\n",
    "All other types of quote characters will be considered as part of the string itself.\"\"\"\n",
    "\n",
    "print b\n",
    "print type(b)"
   ]
  },
  {
   "cell_type": "code",
   "execution_count": 121,
   "metadata": {
    "collapsed": false
   },
   "outputs": [
    {
     "name": "stdout",
     "output_type": "stream",
     "text": [
      "Bilbo Baggins\n",
      "Bilbooooooo....\n",
      "hahaha\n",
      "ha ha ha \n"
     ]
    }
   ],
   "source": [
    "# String Operations\n",
    "a = 'Bilbo'\n",
    "b = 'Baggins'\n",
    "c = a + ' ' + b                # Addition concatenates the string being added\n",
    "print c\n",
    "\n",
    "d = a + 'o'*6 + '.'*4          # Multiplying a string with an integer repeats the string that many times\n",
    "e = 'ha'*3\n",
    "f = 'ha '*3\n",
    "print d\n",
    "print e\n",
    "print f"
   ]
  },
  {
   "cell_type": "code",
   "execution_count": 122,
   "metadata": {
    "collapsed": false
   },
   "outputs": [
    {
     "name": "stdout",
     "output_type": "stream",
     "text": [
      "Bilbo Baggins\n",
      "Frodo Baggins\n",
      "BilboBaggins\n",
      "They say that the Black Pearl is the fastest ship ever. Nobody has caught the Pearl. Ever.\n",
      "<type 'str'>\n",
      "This car can go from 000-60 in 4.250000 seconds.\n",
      "This car can go from 000-060 in 0004.250 seconds.\n",
      "This car can go from 000- 60 in   12.213 seconds.\n",
      "This car can go from 000-5000 in 1212321231.213 seconds.\n"
     ]
    }
   ],
   "source": [
    "# Repalce function\n",
    "a = 'Bilbo Baggins'\n",
    "print a\n",
    "print a.replace('Bilbo', 'Frodo')             # replace function : replace(<to_replace>, <replace_with>)\n",
    "print a.replace(' ', '')                      # Removing spaces\n",
    "\n",
    "# Substitution : Use a %s to insert reserve spots for arguments to be inserted into the string\n",
    "fname = 'Black'\n",
    "lname = 'Pearl'\n",
    "a =  'They say that the %s %s is the fastest ship ever. Nobody has caught the %s. Ever.' %(fname, lname, lname)\n",
    "print a\n",
    "print type(a)\n",
    "\n",
    "# Use %d and %f to insert integers and floats respectively\n",
    "max_speed = 60\n",
    "tot_time = 4.25\n",
    "a = 'This car can go from 000-%d in %f seconds.'%(max_speed, tot_time)\n",
    "print a\n",
    "\n",
    "# Integer/Float formatting\n",
    "a = 'This car can go from 000-%03d in %08.3f seconds.'%(max_speed, tot_time)     \n",
    "# 03d => integer with minimum length 3 (use leading zeros if needed)\n",
    "# 06.3f => float with only 3 digits after decimal and total minimum 6 digits (use leading/lagging zeros if needed)\n",
    "print a\n",
    "\n",
    "# If the zero is omitted from the formatting code, then leading spaces are used\n",
    "a = 'This car can go from 000-%3d in %8.3f seconds.'%(60, 12.2131231)\n",
    "print a\n",
    "\n",
    "a = 'This car can go from 000-%03d in %08.3f seconds.'%(5000, 1212321231.2131231)\n",
    "print a"
   ]
  },
  {
   "cell_type": "code",
   "execution_count": 123,
   "metadata": {
    "collapsed": false
   },
   "outputs": [
    {
     "name": "stdout",
     "output_type": "stream",
     "text": [
      " As long as all the input/output are integers, simple =,-,*,/ operations work as expected\n",
      "<type 'int'>\n",
      "6\n",
      "6\n",
      "12\n",
      "12\n",
      "3\n",
      "When either the input/output is expected to be a float(i.e. decimal), then extra care is needed when using intergers\n",
      "12\n",
      "2\n",
      "1\n",
      "13.0\n",
      "<type 'float'>\n",
      "12.0\n",
      "<type 'float'>\n",
      "2.4\n",
      "2.0\n",
      "2\n",
      "2\n",
      "2\n",
      "3\n"
     ]
    }
   ],
   "source": [
    "# Basic data types and their operations\n",
    "\n",
    "# Integer\n",
    "print ''' As long as all the input/output are integers, simple =,-,*,/ operations work as expected'''\n",
    "a = 5\n",
    "print type(a)\n",
    "print a + 1\n",
    "a += 1\n",
    "print a\n",
    "print a*2\n",
    "a *= 2\n",
    "print a\n",
    "print a/4\n",
    "\n",
    "print '''When either the input/output is expected to be a float(i.e. decimal), then extra care is needed when using intergers'''\n",
    "print a\n",
    "print a/5              # Always rounds to the next lowest integer\n",
    "print a/7\n",
    "\n",
    "print a + 1.0          # Since there is atleast one float in the operation, everyting else is forced to be a float\n",
    "print type(a + 1.0)\n",
    "\n",
    "a = a*1.0\n",
    "print a\n",
    "print type(a)\n",
    "\n",
    "a = int(a)            # Converting the object a back to an integer\n",
    "print a/5.0\n",
    "print (a/5)*1.0       # Note that here first a/5 is computed assuming everything as an integer and then 1.0 is multiplied\n",
    "\n",
    "print int(2.3)\n",
    "print int(2.7)\n",
    "print int(2.5)\n",
    "print int(3.5)"
   ]
  },
  {
   "cell_type": "code",
   "execution_count": 124,
   "metadata": {
    "collapsed": false
   },
   "outputs": [
    {
     "name": "stdout",
     "output_type": "stream",
     "text": [
      "3.0 1.2 2.5\n",
      "<type 'float'> <type 'float'> <type 'float'>\n",
      "3 <type 'int'>\n",
      "3.0 <type 'float'>\n",
      "3 <type 'int'>\n",
      "3.0\n",
      "3\n",
      "3\n",
      "3.0\n",
      "3\n"
     ]
    }
   ],
   "source": [
    "# Floating points\n",
    "a = 3.0\n",
    "b = 1.2\n",
    "c = a/b\n",
    "print a, b, c\n",
    "print type(a), type(b), type(c)\n",
    "\n",
    "d = 0.0\n",
    "#print a/d             # Should give an error\n",
    "\n",
    "a = 3\n",
    "print a, type(a)\n",
    "a = float(a)\n",
    "print a, type(a)\n",
    "a = int(a)\n",
    "print a, type(a)\n",
    "\n",
    "# Converting from string to float/int\n",
    "a = '3'\n",
    "print float(a)\n",
    "print int(float(a))\n",
    "print int(a)\n",
    "\n",
    "a ='3.0'\n",
    "print float(a)\n",
    "print int(float(a))\n",
    "#print int(a)          # Will give an error"
   ]
  },
  {
   "cell_type": "code",
   "execution_count": 125,
   "metadata": {
    "collapsed": false
   },
   "outputs": [
    {
     "name": "stdout",
     "output_type": "stream",
     "text": [
      "[1, 4, 2, 9]\n",
      "<type 'list'>\n",
      "['Luke', 'Yoda', 1965, 3.26]\n",
      "<type 'list'>\n",
      "[1, 4, 2, 9, 'Luke', 'Yoda', 1965, 3.26]\n",
      "['Luke', 'Yoda', 1965, 3.26, 1, 4, 2, 9]\n",
      "[1, 4, 2, 9, 'Luke', 'Yoda', 1965, 3.26]\n",
      "[1, 4, 2, 9, 'Luke', 'Yoda', 1965, 3.26, 'new element 1']\n",
      "[1, 4, 2, 9, 'Luke', 'Yoda', 1965, 3.26, 'new element 1', 'new element 2']\n",
      "[1, 4, 2, 9, 'Luke', 'Yoda', 1965, 3.26, 'new element 1', 'new element 2']\n",
      "[1, 4, 2, 9, 'Luke', 'Yoda', 1965, 3.26, 'new element 1', 'new element 2', ['Luke', 'Yoda', 1965, 3.26]]\n"
     ]
    }
   ],
   "source": [
    "# Lists - Ordered collection of any python object(even a function)\n",
    "a = [1, 4, 2, 9]\n",
    "print a\n",
    "print type(a)\n",
    "\n",
    "b = ['Luke', 'Yoda', 1965, 3.26]\n",
    "print b\n",
    "print type(b)\n",
    "\n",
    "# Lists can be appended using the addition operator\n",
    "c = a + b\n",
    "print c\n",
    "print b + a\n",
    "\n",
    "# Alternatively can also use the extend function for lists\n",
    "a.extend(b)        # Note that this midifies the list 'a' itself\n",
    "print a\n",
    "\n",
    "# To add a new element\n",
    "a = a + ['new element 1']     # i.e. append a list with the new elements...this can be used to append multiple elements together\n",
    "print a\n",
    "\n",
    "# Alternatively\n",
    "a.append('new element 2')     # Can only append one element at a time\n",
    "print a\n",
    "\n",
    "# If the argument to append function is a list, then the list is treated as a single element\n",
    "print a\n",
    "a.append(b)\n",
    "print a"
   ]
  },
  {
   "cell_type": "code",
   "execution_count": 126,
   "metadata": {
    "collapsed": false
   },
   "outputs": [
    {
     "name": "stdout",
     "output_type": "stream",
     "text": [
      "1\n",
      "2\n",
      "['Luke', 'Yoda', 1965, 3.26]\n",
      "new element 2\n",
      "[1, 4, 2, 9, 'Luke', 'Yoda', 1965, 3.26, 'new element 1', 'new element 2', ['Luke', 'Yoda', 1965, 3.26]]\n",
      "[1, 4, 2]\n",
      "[9, 'Luke', 'Yoda', 1965, 3.26, 'new element 1', 'new element 2', ['Luke', 'Yoda', 1965, 3.26]]\n",
      "[1, 4, 2, 9, 'Luke', 'Yoda', 1965, 3.26, 'new element 1']\n",
      "['new element 2', ['Luke', 'Yoda', 1965, 3.26]]\n",
      "[2, 9, 'Luke']\n",
      "[]\n",
      "['Yoda', 'Luke', 9]\n",
      "[['Luke', 'Yoda', 1965, 3.26], 'new element 2', 'new element 1', 3.26, 1965, 'Yoda', 'Luke', 9, 2, 4, 1]\n",
      "[1, 2, 'Luke']\n"
     ]
    }
   ],
   "source": [
    "# Indexing - A list's elements can be accessed using their index. Indexing in python starts from 0.\n",
    "print a[0]\n",
    "print a[2]\n",
    "\n",
    "print a[-1]\n",
    "print a[-2]\n",
    "\n",
    "# Indexing using ':' operatior. The complete synta for indexing using ':' operator is \n",
    "#         <starting index>:<ending index>:<step size>\n",
    "# Default actions if any of the above arguments is not given:\n",
    "# Starting index : Start from first element of the list\n",
    "# Ending   index : Continue till last element of the list\n",
    "# Step size      : take step size = 1\n",
    "print a[0::1]\n",
    "\n",
    "print a[:3]\n",
    "print a[3:]\n",
    "\n",
    "print a[:-2]\n",
    "print a[-2:]\n",
    "\n",
    "print a[2:5]\n",
    "print a[5:2]\n",
    "print a[5:2:-1]\n",
    "\n",
    "print a[::-1]           # Very quick way to reverse a list/string\n",
    "print a[0:6:2]"
   ]
  },
  {
   "cell_type": "code",
   "execution_count": 127,
   "metadata": {
    "collapsed": false
   },
   "outputs": [
    {
     "name": "stdout",
     "output_type": "stream",
     "text": [
      "[1, 4, 2, 9, 'Luke', 'Yoda', 1965, 3.26, 'new element 1', 'new element 2', ['Luke', 'Yoda', 1965, 3.26]]\n",
      "[['Luke', 'Yoda', 1965, 3.26], 'new element 2', 'new element 1', 3.26, 1965, 'Yoda', 'Luke', 9, 2, 4, 1]\n",
      "[['Luke', 'Yoda', 1965, 3.26], 'new element 2', 'new element 1', 3.26, 1965, 'Yoda', 'Luke', 9, 2, 4, 1]\n",
      "[1, 2, 3.26, 4, 9, 1965, ['Luke', 'Yoda', 1965, 3.26], 'Luke', 'Yoda', 'new element 1', 'new element 2']\n",
      "['b', 'e', 'l', 'u']\n",
      "belu\n",
      "[1, 2, 2, 3]\n"
     ]
    }
   ],
   "source": [
    "# Other list operations\n",
    "print a\n",
    "a.reverse()      # this modifies the list 'a' itself and does not return anything\n",
    "print a\n",
    "\n",
    "print a\n",
    "a.sort()         # Sorts the list\n",
    "print a\n",
    "\n",
    "X = sorted('blue')\n",
    "print X \n",
    "print ''.join(X)\n",
    "\n",
    "print sorted([2, 1, 3, 2])"
   ]
  },
  {
   "cell_type": "code",
   "execution_count": 128,
   "metadata": {
    "collapsed": false
   },
   "outputs": [
    {
     "name": "stdout",
     "output_type": "stream",
     "text": [
      "['new element 2', 'new element 1', 'Yoda', 'Luke', ['Luke', 'Yoda', 1965, 3.26], 1965, 9, 4, 3.26, 2, 1]\n",
      "[1, 2, 3.26, 4, 9, 1965, ['Luke', 'Yoda', 1965, 3.26], 'Luke', 'Yoda', 'new element 1', 'new element 2']\n",
      "[3, 2, 2, 1]\n",
      "1\n",
      "10\n"
     ]
    }
   ],
   "source": [
    "# Alternatively\n",
    "a.reverse()      # Destroying the sort order to test new method for sorting\n",
    "print a\n",
    "b = sorted(a)    # This does not edit the list a. We could use a on LHS if we want to modify a itself\n",
    "print b\n",
    "\n",
    "print sorted([2, 1, 3, 2], reverse=True)\n",
    "print a.count(1)  # Gives the frequency of an element in the list. Will give an error if frequency = 0\n",
    "print a.index(1)  # Gives the index of an element in the list. Will give an error if element not present in the list"
   ]
  },
  {
   "cell_type": "code",
   "execution_count": 129,
   "metadata": {
    "collapsed": false
   },
   "outputs": [
    {
     "name": "stdout",
     "output_type": "stream",
     "text": [
      "Lamborghini\n",
      "Lam\n",
      "ni\n",
      "mbo\n",
      "inihgrobmaL\n",
      "Lmo\n",
      "LAMBORGHINI\n",
      "lamborghini\n",
      "2\n",
      "False\n",
      "2\n",
      "8\n",
      "Lambo\n",
      "lAMBORGHINI\n",
      "  Lamborghini  \n",
      "\n",
      "Lamborghini\n",
      "['Lamb', 'ghini']\n",
      "['Lamborgh', 'n', '']\n"
     ]
    }
   ],
   "source": [
    "# String indexing - For indexing/search purposes string can be considered to be a list of characters. \n",
    "# Most operations are similar to the corresponding list syntax\n",
    "b = 'Lamborghini'\n",
    "print b\n",
    "\n",
    "print b[:3]\n",
    "print b[-2:]\n",
    "print b[2:5]\n",
    "print b[::-1]           # Very quick way to reverse a list/string\n",
    "print b[0:6:2]\n",
    "\n",
    "print b.upper()\n",
    "print b.lower()\n",
    "print b.count('i')\n",
    "print b.endswith('ki')\n",
    "print b.find('m')\n",
    "print b.index('i')\n",
    "print b.replace('rghini', '')\n",
    "print b.swapcase()\n",
    "\n",
    "b = '  ' + b + '  \\n'\n",
    "print b\n",
    "b = b.strip()\n",
    "print b\n",
    "\n",
    "print b.split('or')\n",
    "print b.split('i')"
   ]
  },
  {
   "cell_type": "code",
   "execution_count": 130,
   "metadata": {
    "collapsed": false
   },
   "outputs": [
    {
     "name": "stdout",
     "output_type": "stream",
     "text": [
      "{}\n",
      "<type 'dict'>\n",
      "{'Lance': 'South Africa', 'Alan': 'England', 'Mark': 'Australia', 'Kevin': ['England', 'South Africa'], 'Shahid': 'Pakistan', 'Sachin': 'India', 'Rahul': 'India'}\n",
      "India\n",
      "['Lance', 'Alan', 'Mark', 'Kevin', 'Shahid', 'Sachin', 'Rahul']\n",
      "['South Africa', 'England', 'Australia', ['England', 'South Africa'], 'Pakistan', 'India', 'India']\n",
      "[('Lance', 'South Africa'), ('Alan', 'England'), ('Mark', 'Australia'), ('Kevin', ['England', 'South Africa']), ('Shahid', 'Pakistan'), ('Sachin', 'India'), ('Rahul', 'India')]\n",
      "False\n",
      "False\n",
      "False\n",
      "True\n",
      "True\n",
      "True\n",
      "Print the Dictionary out\n",
      "Lance South Africa\n",
      "Alan England\n",
      "Mark Australia\n",
      "Kevin ['England', 'South Africa']\n",
      "Shahid Pakistan\n",
      "Sachin India\n",
      "Rahul India\n"
     ]
    }
   ],
   "source": [
    "# Dictionary - Similar to a lookup table(a hash table). Unordered collection of key, value pairs\n",
    "# Dictionaries comprise of key and value pairs. Each key points to a value. The keys of a dictionary need to be unique.\n",
    "\n",
    "a = {}\n",
    "print a\n",
    "print type(a)\n",
    "\n",
    "a['Sachin'] = 'India'\n",
    "a['Alan'] = 'England'\n",
    "a['Mark'] = 'Australia'\n",
    "a['Rahul'] = 'India'\n",
    "a['Lance'] = 'South Africa'\n",
    "a['Shahid'] = 'Pakistan'\n",
    "a['Kevin'] = ['England', 'South Africa']\n",
    "\n",
    "print a\n",
    "print a['Rahul']       # Prints the value of the key 'Rahul' in dictionary 'a'\n",
    "print a.keys()         # Prints the list of keys in the dictionary\n",
    "print a.values()       # Print the values (in same sequence as the keys() function)\n",
    "print a.items()        # returns the (key, value) pairs in a tuple. \n",
    "                       # Tuple are immutable objects (similar to list but they are initialised using simple brackets '(' and ')'\n",
    "                       # Tuples can not be modified once created\n",
    "\n",
    "# Ways to check if a key is present in a dict\n",
    "print a.has_key('Wasim')\n",
    "print 'Wasim' in a     # This syntax in commonly used in 'if' statements\n",
    "print 'Wasim' in a.keys()      # Avoid this. This creates a list of all keys and then searches within that list. \n",
    "                               # Defeats the purpose of using a dictionary(has table). \n",
    "                               # Will be much slower in perfromance over large dictionaries\n",
    "\n",
    "print a.has_key('Sachin')\n",
    "print 'Sachin' in a\n",
    "print 'Sachin' in a.keys()\n",
    "\n",
    "print \"Print the Dictionary out\"\n",
    "for key,value in a.items():\n",
    "    print key,value"
   ]
  },
  {
   "cell_type": "code",
   "execution_count": 131,
   "metadata": {
    "collapsed": false
   },
   "outputs": [
    {
     "name": "stdout",
     "output_type": "stream",
     "text": [
      "set([1, 2, 3])\n",
      "<type 'set'>\n",
      "set([3, 4, 5])\n",
      "<type 'set'>\n",
      "set([1, 2, 3, 4, 5])\n",
      "set([1, 2, 3, 4, 5])\n",
      "set([3])\n",
      "set([3])\n",
      "set([1, 2, 4, 5])\n",
      "set([1, 2, 4, 5])\n",
      "set([1, 2])\n",
      "set([1, 2])\n",
      "set([1, 2, 3, 10])\n",
      "set([1, 2, 3, 4, 5, 10])\n"
     ]
    }
   ],
   "source": [
    "# Sets - Unordered collection of unique objects\n",
    "a = set([1, 2, 3, 3, 2, 3])\n",
    "print a\n",
    "print type(a)\n",
    "\n",
    "b = set([3, 4, 5])\n",
    "print b\n",
    "print type(b)\n",
    "\n",
    "print a|b\n",
    "print a.union(b)\n",
    "\n",
    "print a&b\n",
    "print a.intersection(b)\n",
    "\n",
    "print a^b                              # XOR - Exclusive OR\n",
    "print a.symmetric_difference(b)\n",
    "\n",
    "print a-b\n",
    "print a.difference(b)\n",
    "\n",
    "a.add(10)\n",
    "print a\n",
    "\n",
    "a.update(b)   # Equivalent to a = a.union(b)\n",
    "print a"
   ]
  },
  {
   "cell_type": "code",
   "execution_count": 132,
   "metadata": {
    "collapsed": false
   },
   "outputs": [
    {
     "name": "stdout",
     "output_type": "stream",
     "text": [
      "[0, 1, 2, 3, 4, 5, 6, 7, 8, 9] 10\n",
      "[2, 3, 4, 5, 6, 7, 8, 9]\n",
      "[2, 4, 6, 8]\n",
      "45\n",
      "['0', '1', '2', '3', '4', '5', '6', '7', '8', '9']\n",
      "[0.0, 1.0, 2.0, 3.0, 4.0, 5.0, 6.0, 7.0, 8.0, 9.0]\n",
      "['0.0', '1.0', '2.0', '3.0', '4.0', '5.0', '6.0', '7.0', '8.0', '9.0']\n"
     ]
    }
   ],
   "source": [
    "# Some python built-in functions:\n",
    "a = range(10)\n",
    "print a, len(a)\n",
    "print range(2, 10)\n",
    "print range(2, 10, 2)\n",
    "print sum(a)            # Note that this 'sum' function only works if all elements of the list are numeric\n",
    "\n",
    "# map functiion - a map function maps any given function to a list\n",
    "print map(str, a)\n",
    "print map(float, a)\n",
    "print map(str, map(float, a))\n",
    "# The first argument is the function to be mapped (can be any function, user-defined also)\n",
    "# The second argument is the list on which the function is to be mapped"
   ]
  },
  {
   "cell_type": "code",
   "execution_count": 133,
   "metadata": {
    "collapsed": false
   },
   "outputs": [
    {
     "name": "stdout",
     "output_type": "stream",
     "text": [
      "1\n",
      "2\n",
      "5.6\n",
      "qwe\n",
      "-------------\n",
      "1\n",
      "2\n",
      "123\n",
      "6\n",
      "-------------\n",
      "1\n",
      "2\n",
      "4\n",
      "qwe\n",
      "5.6\n",
      "-------------\n",
      "r  a  n  d  o  m  _  s  t  r  i  n  g  \n",
      "-------------\n",
      "0 1 2 3 0 1 2 3\n"
     ]
    }
   ],
   "source": [
    "# Control Statements - For loop\n",
    "any_iterable = [1, 2, 5.6, 'qwe']                        #list\n",
    "for i in any_iterable:\n",
    "    print i\n",
    "print \"-------------\"\n",
    "\n",
    "any_iterable = {1:2, 2:5, 6:10, '123':[1, 2, 'wqe']}     #Dictionary\n",
    "for i in any_iterable:\n",
    "    print i\n",
    "print \"-------------\"\n",
    "\n",
    "any_iterable = set([1, 2, 5.6, 'qwe', 1, 2, 4])          #set\n",
    "for i in any_iterable:\n",
    "    print i\n",
    "print \"-------------\"\n",
    "\n",
    "any_iterable = 'random_string'                           #string\n",
    "for i in any_iterable:\n",
    "    print i+ \" \",\n",
    "print \"\\n-------------\"\n",
    "\n",
    "for i in range(4): print i,\n",
    "\n",
    "for i in xrange(4): print i,              # xrange is similar to range, but it returns an iterator object....\n",
    "                                         # ..instead of the whole list so is much lighter on memory when used in for loops"
   ]
  },
  {
   "cell_type": "code",
   "execution_count": 134,
   "metadata": {
    "collapsed": false
   },
   "outputs": [
    {
     "name": "stdout",
     "output_type": "stream",
     "text": [
      "[1, 2, 3]\n",
      "[1, 2, 3]\n"
     ]
    }
   ],
   "source": [
    "list1 = range(1,4)\n",
    "print list1\n",
    "print [i for i in list1]"
   ]
  },
  {
   "cell_type": "code",
   "execution_count": 135,
   "metadata": {
    "collapsed": false
   },
   "outputs": [
    {
     "name": "stdout",
     "output_type": "stream",
     "text": [
      "[1, 4, 9]\n"
     ]
    }
   ],
   "source": [
    "print [i**2 for i in list1]"
   ]
  },
  {
   "cell_type": "code",
   "execution_count": 136,
   "metadata": {
    "collapsed": false
   },
   "outputs": [
    {
     "name": "stdout",
     "output_type": "stream",
     "text": [
      "['Col_1', 'Col_2', 'Col_3']\n"
     ]
    }
   ],
   "source": [
    "Col_list= [\"Col_\"+np.str(i) for i in list1]\n",
    "print Col_list"
   ]
  },
  {
   "cell_type": "code",
   "execution_count": 137,
   "metadata": {
    "collapsed": false
   },
   "outputs": [
    {
     "name": "stdout",
     "output_type": "stream",
     "text": [
      "['Row_1', 'Row_2', 'Row_3']\n"
     ]
    }
   ],
   "source": [
    "Row_list= [\"Row_\"+np.str(i) for i in list1]\n",
    "print Row_list"
   ]
  },
  {
   "cell_type": "code",
   "execution_count": 138,
   "metadata": {
    "collapsed": false
   },
   "outputs": [
    {
     "data": {
      "text/plain": [
       "[('Col_1', 'Row_1'),\n",
       " ('Col_1', 'Row_2'),\n",
       " ('Col_1', 'Row_3'),\n",
       " ('Col_2', 'Row_1'),\n",
       " ('Col_2', 'Row_2'),\n",
       " ('Col_2', 'Row_3'),\n",
       " ('Col_3', 'Row_1'),\n",
       " ('Col_3', 'Row_2'),\n",
       " ('Col_3', 'Row_3')]"
      ]
     },
     "execution_count": 138,
     "metadata": {},
     "output_type": "execute_result"
    }
   ],
   "source": [
    "[(i,j) for i in Col_list for j in Row_list]"
   ]
  },
  {
   "cell_type": "code",
   "execution_count": 139,
   "metadata": {
    "collapsed": false
   },
   "outputs": [
    {
     "data": {
      "text/plain": [
       "[('Col_1', 'Row_1'),\n",
       " ('Col_1', 'Row_3'),\n",
       " ('Col_2', 'Row_1'),\n",
       " ('Col_2', 'Row_3'),\n",
       " ('Col_3', 'Row_1'),\n",
       " ('Col_3', 'Row_3')]"
      ]
     },
     "execution_count": 139,
     "metadata": {},
     "output_type": "execute_result"
    }
   ],
   "source": [
    "[(i,j) for i in Col_list for j in Row_list if j!='Row_2']"
   ]
  },
  {
   "cell_type": "code",
   "execution_count": 140,
   "metadata": {
    "collapsed": false
   },
   "outputs": [
    {
     "name": "stdout",
     "output_type": "stream",
     "text": [
      "0 Col_1\n",
      "1 Col_2\n",
      "2 Col_3\n"
     ]
    }
   ],
   "source": [
    "for i,j in enumerate(Col_list):\n",
    "    print i,j\n",
    "    \n"
   ]
  },
  {
   "cell_type": "code",
   "execution_count": 141,
   "metadata": {
    "collapsed": false
   },
   "outputs": [
    {
     "name": "stdout",
     "output_type": "stream",
     "text": [
      "integer division or modulo by zero\n"
     ]
    }
   ],
   "source": [
    "## Try Except similar stuff to like we have try and catch in C,C++\n",
    "\n",
    "(x,y) = (5,0)\n",
    "try:\n",
    "  z = x/y\n",
    "except ZeroDivisionError as e:\n",
    "  z = e # representation: \"<exceptions.ZeroDivisionError instance at 0x817426c>\"\n",
    "print z # output: \"integer division or modulo by zero\"\n",
    "\n"
   ]
  },
  {
   "cell_type": "code",
   "execution_count": 142,
   "metadata": {
    "collapsed": true
   },
   "outputs": [],
   "source": [
    "## Lets have functions and play around it a bit\n",
    "\n",
    "def divide(x, y):\n",
    "    try:\n",
    "     result = x / y\n",
    "    except ZeroDivisionError:\n",
    "     print \"division by zero!\"\n",
    "    else:\n",
    "     print \"result is\", result\n",
    "    finally:\n",
    "     print \"executing finally clause\""
   ]
  },
  {
   "cell_type": "code",
   "execution_count": 143,
   "metadata": {
    "collapsed": false
   },
   "outputs": [
    {
     "name": "stdout",
     "output_type": "stream",
     "text": [
      "#Case 1 :\n",
      "result is 2\n",
      "executing finally clause\n",
      "#Case 2 :\n",
      "division by zero!\n",
      "executing finally clause\n",
      "#Case 3 :\n"
     ]
    }
   ],
   "source": [
    "## Lets Try Out: Will explain the output\n",
    "print \"#Case 1 :\"\n",
    "divide(2, 1)\n",
    "print \"#Case 2 :\"\n",
    "divide(2, 0)\n",
    "print \"#Case 3 :\"\n",
    "# divide(\"2\", \"1\") # Cause an exception "
   ]
  },
  {
   "cell_type": "code",
   "execution_count": 144,
   "metadata": {
    "collapsed": false
   },
   "outputs": [
    {
     "name": "stdout",
     "output_type": "stream",
     "text": [
      "<function is_even at 0x00000000040AE438>\n",
      "True\n"
     ]
    }
   ],
   "source": [
    "## Lets Start with functions :\n",
    "\n",
    "# A function is a parameterized section of code. A method is simply a function which is an attribute of an object, \n",
    "# i.e., defined as part of a class. Functions and methods are values themselves. \n",
    "# Syntax:\n",
    "# def a_func(var0, var1, …):\n",
    "\n",
    "## Example 1\n",
    "def is_even(n):\n",
    "    '''Returns a Boolean indicating whether n is even.'''\n",
    "    return n % 2 == 0\n",
    "\n",
    "print is_even\n",
    "print is_even(2)"
   ]
  },
  {
   "cell_type": "code",
   "execution_count": 145,
   "metadata": {
    "collapsed": false
   },
   "outputs": [
    {
     "name": "stdout",
     "output_type": "stream",
     "text": [
      "5\n"
     ]
    }
   ],
   "source": [
    "## Example 2\n",
    "\n",
    "def median_3(a, b, c):\n",
    "    '''Returns the median (middle) of the three arguments.'''\n",
    "\n",
    "    if a <= b:\n",
    "        if b <= c:\n",
    "            return b\n",
    "        elif a <= c:\n",
    "            return c\n",
    "        else:\n",
    "            return a\n",
    "    else:\n",
    "        if a < c:\n",
    "            return a\n",
    "        elif b < c:\n",
    "            return c\n",
    "        else:\n",
    "            return b\n",
    "\n",
    "print median_3(5, 9, 2)"
   ]
  },
  {
   "cell_type": "code",
   "execution_count": 146,
   "metadata": {
    "collapsed": false
   },
   "outputs": [
    {
     "name": "stdout",
     "output_type": "stream",
     "text": [
      "None\n",
      "['a', 'd', 'c', 'b']\n"
     ]
    }
   ],
   "source": [
    "## Example 3\n",
    "def swap_list_elts(l, index1, index2):\n",
    "    '''Swaps l[index1] and l[index2]'''\n",
    "\n",
    "    l[index1], l[index2] = l[index2], l[index1]\n",
    "\n",
    "l = ['a', 'b', 'c', 'd']\n",
    "print swap_list_elts(l, 1, 3)\n",
    "print l"
   ]
  },
  {
   "cell_type": "code",
   "execution_count": 147,
   "metadata": {
    "collapsed": false
   },
   "outputs": [
    {
     "name": "stdout",
     "output_type": "stream",
     "text": [
      "[3, 5, 7]\n"
     ]
    }
   ],
   "source": [
    "## Example 4\n",
    "# Applies the user-defined function to the elements of the iterable an_iter, and returns a list of the results. \n",
    "# The ith element of the returned list is function(an_iteriter1[<var>i</var>], &hellip).\n",
    "def add2(n):\n",
    "    '''Returns the given value plus 2.'''\n",
    "    return n + 2\n",
    "\n",
    "print map(add2, [1, 3, 5])"
   ]
  },
  {
   "cell_type": "code",
   "execution_count": 148,
   "metadata": {
    "collapsed": false
   },
   "outputs": [
    {
     "name": "stdout",
     "output_type": "stream",
     "text": [
      "<function <lambda> at 0x0000000003AFADD8>\n",
      "True\n"
     ]
    }
   ],
   "source": [
    "# Lamba Function: These are oneliners like you would see in R or Java, typically called lambda function\n",
    "# lambda var1, var2, …: expr\n",
    "\n",
    "## Example 1\n",
    "is_even = lambda n : n % 2 == 0\n",
    "\n",
    "print is_even\n",
    "print is_even(2)\n"
   ]
  },
  {
   "cell_type": "code",
   "execution_count": 149,
   "metadata": {
    "collapsed": false
   },
   "outputs": [
    {
     "name": "stdout",
     "output_type": "stream",
     "text": [
      "[3, 5, 7]\n",
      "[10, 20, 30, 40]\n"
     ]
    }
   ],
   "source": [
    "## Example 2\n",
    "print map(lambda n: n + 2, [1, 3, 5])\n",
    "print [x*5 for x in range(2,10,2)]"
   ]
  },
  {
   "cell_type": "code",
   "execution_count": 150,
   "metadata": {
    "collapsed": false
   },
   "outputs": [
    {
     "name": "stdout",
     "output_type": "stream",
     "text": [
      "0\n",
      "1\n",
      "4\n",
      "9\n"
     ]
    }
   ],
   "source": [
    "## Generator Functions:\n",
    "# Generators are a kind of iterator that are defined like functions. \n",
    "# A generator function looks just like a regular function, except that it uses yield instead of return.\n",
    "# def a_genfunc(var0, var1, …): … yield … …\n",
    "\n",
    "## Example 1:\n",
    "def squares(n):\n",
    "    '''Yields the squares from 0 to n-1 squared.'''\n",
    "\n",
    "    for i in range(n):\n",
    "        yield i * i\n",
    "\n",
    "g = squares(4)\n",
    "print g.next()\n",
    "print g.next()\n",
    "print g.next()\n",
    "print g.next()\n"
   ]
  },
  {
   "cell_type": "code",
   "execution_count": 151,
   "metadata": {
    "collapsed": false
   },
   "outputs": [
    {
     "name": "stdout",
     "output_type": "stream",
     "text": [
      "1\n",
      "Yielded: Hi!\n",
      "2\n"
     ]
    }
   ],
   "source": [
    "## Example 2:\n",
    "def foo():\n",
    "    x = yield 1\n",
    "    print 'Yielded:', x\n",
    "    yield 2\n",
    "    \n",
    "bar = foo()\n",
    "print bar.next()\n",
    "print bar.send('Hi!')"
   ]
  },
  {
   "cell_type": "code",
   "execution_count": 152,
   "metadata": {
    "collapsed": false
   },
   "outputs": [],
   "source": [
    "## Lets move ahead with file operation\n",
    "a_file = open('./Training_PythonUnix Laundry List.txt',\"rb\")\n",
    "# print a_file.read()\n",
    "# print a_file.readline() #  Reads one line\n",
    "# print a_file.readline()\n",
    "# print a_file.readlines() # Reads multiple lines\n",
    "a_file.close()"
   ]
  },
  {
   "cell_type": "code",
   "execution_count": 153,
   "metadata": {
    "collapsed": false
   },
   "outputs": [
    {
     "name": "stdout",
     "output_type": "stream",
     "text": [
      "[['Tab Names', 'My POVS', 'PartName'], ['Innerliner', 'Innerliner', 'ILPART'], ['Chafer', 'Chafer', 'CHFPRT'], ['Body Ply 1', 'Body Ply', 'BP1PART'], ['Body Ply 2', 'Body Ply', 'BP2PART']]\n"
     ]
    }
   ],
   "source": [
    "## Reading CSV file list of list . Later session will cover it using pandas. Which creates a Dataframe\n",
    "\n",
    "import csv\n",
    "with open('AttributeSheetNames.csv', 'rb') as f:\n",
    "    reader = csv.reader(f)\n",
    "    your_list = list(reader)\n",
    "\n",
    "print your_list[0:5]"
   ]
  },
  {
   "cell_type": "code",
   "execution_count": 154,
   "metadata": {
    "collapsed": false
   },
   "outputs": [
    {
     "name": "stdout",
     "output_type": "stream",
     "text": [
      "[(0, 'a'), (1, 'b'), (2, 'c'), (3, 'd')]\n",
      "[(5, 'a'), (6, 'b'), (7, 'c'), (8, 'd')]\n"
     ]
    }
   ],
   "source": [
    "## Enumeration : Something you will surely have seen in C,C++,Java\n",
    "# Returns an enumeration object, a type of iterator. \n",
    "# Each element of the iterator is a pair of a number and an element from the given iterable or iterator an_iter. \n",
    "# The first number is start (or the default zero), and successive numbers are each one greater than the previous.\n",
    "# enumerate(an_iter, start=0)\n",
    "\n",
    "print list(enumerate(['a', 'b', 'c', 'd']))\n",
    "print list(enumerate(['a', 'b', 'c', 'd'], 5))"
   ]
  },
  {
   "cell_type": "code",
   "execution_count": 155,
   "metadata": {
    "collapsed": true
   },
   "outputs": [],
   "source": [
    "## Coding Style : http://docs.python-guide.org/en/latest/writing/style/ \n",
    "## For a more details, see the official Python style guides for code (“PEP 8”) and docstrings (“PEP 257”)."
   ]
  },
  {
   "cell_type": "code",
   "execution_count": 156,
   "metadata": {
    "collapsed": false
   },
   "outputs": [
    {
     "name": "stdout",
     "output_type": "stream",
     "text": [
      "Ex. 1 - a\n",
      "Ex. 2 - a\n",
      "Ex. 3 - a\n"
     ]
    }
   ],
   "source": [
    "# Logic and Comparisons\n",
    "# if-elif-else\n",
    "\n",
    "\n",
    "# You can control which statements of your program execute\n",
    "#\tusing if, elif, and else statements. They consist of the\n",
    "#\tkeywords if, elif (else-if), or else, a boolean or boolean \n",
    "#\texpression (for if and elif), a colon, and then some \n",
    "#\tcode in the body\n",
    "a = True\n",
    "b = False\n",
    "c = True\n",
    "\n",
    "## Example \n",
    "if a:\n",
    "    print \"Ex. 1 - a\"\n",
    "\n",
    "if a:\n",
    "    print \"Ex. 2 - a\"\n",
    "elif b:\n",
    "    print \"Ex. 2 - b\"\n",
    "elif c:\n",
    "    print \"Ex. 2 - c\"\n",
    "    \n",
    "if a:\n",
    "    print \"Ex. 3 - a\"\n",
    "else:\n",
    "    print \"Ex. 3 - not a\"\n"
   ]
  },
  {
   "cell_type": "code",
   "execution_count": 157,
   "metadata": {
    "collapsed": false
   },
   "outputs": [
    {
     "name": "stdout",
     "output_type": "stream",
     "text": [
      "Example 1\n",
      "0 1 2 3 4 5 6 7 8 9 \n",
      "Example 2\n",
      "9 8 7 6 5 4 3 2 1 0\n"
     ]
    }
   ],
   "source": [
    "## Loops are like in any other language\n",
    "\n",
    "print \"Example 1\"\n",
    "for i in range(0,10):\n",
    "    print i,\n",
    "\n",
    "print \"\\nExample 2\"\n",
    "i=10\n",
    "while(i>0):\n",
    "    i=i-1\n",
    "    print i,"
   ]
  },
  {
   "cell_type": "code",
   "execution_count": 158,
   "metadata": {
    "collapsed": true
   },
   "outputs": [],
   "source": [
    "## References :\n",
    "# [1] Piyush's Material\n",
    "# [2] Ankur Edits and Suggestions\n",
    "# [3] http://www.codeskulptor.org/docs.html#tabs-Python\n",
    "# [4] Stack Overflow\n"
   ]
  }
 ],
 "metadata": {
  "kernelspec": {
   "display_name": "Python 2",
   "language": "python",
   "name": "python2"
  },
  "language_info": {
   "codemirror_mode": {
    "name": "ipython",
    "version": 2
   },
   "file_extension": ".py",
   "mimetype": "text/x-python",
   "name": "python",
   "nbconvert_exporter": "python",
   "pygments_lexer": "ipython2",
   "version": "2.7.11"
  }
 },
 "nbformat": 4,
 "nbformat_minor": 0
}
