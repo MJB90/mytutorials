{
 "cells": [
  {
   "cell_type": "code",
   "execution_count": 1,
   "metadata": {
    "collapsed": true
   },
   "outputs": [],
   "source": [
    "import pandas as pd\n",
    "import quandl"
   ]
  },
  {
   "cell_type": "code",
   "execution_count": 2,
   "metadata": {
    "collapsed": true
   },
   "outputs": [],
   "source": [
    "df= quandl.get('WIKI/GOOGL')"
   ]
  },
  {
   "cell_type": "code",
   "execution_count": 4,
   "metadata": {
    "collapsed": false
   },
   "outputs": [
    {
     "data": {
      "text/plain": [
       "(2948, 12)"
      ]
     },
     "execution_count": 4,
     "metadata": {},
     "output_type": "execute_result"
    }
   ],
   "source": [
    "df.shape"
   ]
  },
  {
   "cell_type": "code",
   "execution_count": 5,
   "metadata": {
    "collapsed": false
   },
   "outputs": [
    {
     "data": {
      "text/html": [
       "<div>\n",
       "<table border=\"1\" class=\"dataframe\">\n",
       "  <thead>\n",
       "    <tr style=\"text-align: right;\">\n",
       "      <th></th>\n",
       "      <th>Open</th>\n",
       "      <th>High</th>\n",
       "      <th>Low</th>\n",
       "      <th>Close</th>\n",
       "      <th>Volume</th>\n",
       "      <th>Ex-Dividend</th>\n",
       "      <th>Split Ratio</th>\n",
       "      <th>Adj. Open</th>\n",
       "      <th>Adj. High</th>\n",
       "      <th>Adj. Low</th>\n",
       "      <th>Adj. Close</th>\n",
       "      <th>Adj. Volume</th>\n",
       "    </tr>\n",
       "    <tr>\n",
       "      <th>Date</th>\n",
       "      <th></th>\n",
       "      <th></th>\n",
       "      <th></th>\n",
       "      <th></th>\n",
       "      <th></th>\n",
       "      <th></th>\n",
       "      <th></th>\n",
       "      <th></th>\n",
       "      <th></th>\n",
       "      <th></th>\n",
       "      <th></th>\n",
       "      <th></th>\n",
       "    </tr>\n",
       "  </thead>\n",
       "  <tbody>\n",
       "    <tr>\n",
       "      <th>2004-08-19</th>\n",
       "      <td>100.00</td>\n",
       "      <td>104.06</td>\n",
       "      <td>95.96</td>\n",
       "      <td>100.34</td>\n",
       "      <td>44659000.0</td>\n",
       "      <td>0.0</td>\n",
       "      <td>1.0</td>\n",
       "      <td>50.000</td>\n",
       "      <td>52.03</td>\n",
       "      <td>47.980</td>\n",
       "      <td>50.170</td>\n",
       "      <td>44659000.0</td>\n",
       "    </tr>\n",
       "    <tr>\n",
       "      <th>2004-08-20</th>\n",
       "      <td>101.01</td>\n",
       "      <td>109.08</td>\n",
       "      <td>100.50</td>\n",
       "      <td>108.31</td>\n",
       "      <td>22834300.0</td>\n",
       "      <td>0.0</td>\n",
       "      <td>1.0</td>\n",
       "      <td>50.505</td>\n",
       "      <td>54.54</td>\n",
       "      <td>50.250</td>\n",
       "      <td>54.155</td>\n",
       "      <td>22834300.0</td>\n",
       "    </tr>\n",
       "    <tr>\n",
       "      <th>2004-08-23</th>\n",
       "      <td>110.75</td>\n",
       "      <td>113.48</td>\n",
       "      <td>109.05</td>\n",
       "      <td>109.40</td>\n",
       "      <td>18256100.0</td>\n",
       "      <td>0.0</td>\n",
       "      <td>1.0</td>\n",
       "      <td>55.375</td>\n",
       "      <td>56.74</td>\n",
       "      <td>54.525</td>\n",
       "      <td>54.700</td>\n",
       "      <td>18256100.0</td>\n",
       "    </tr>\n",
       "    <tr>\n",
       "      <th>2004-08-24</th>\n",
       "      <td>111.24</td>\n",
       "      <td>111.60</td>\n",
       "      <td>103.57</td>\n",
       "      <td>104.87</td>\n",
       "      <td>15247300.0</td>\n",
       "      <td>0.0</td>\n",
       "      <td>1.0</td>\n",
       "      <td>55.620</td>\n",
       "      <td>55.80</td>\n",
       "      <td>51.785</td>\n",
       "      <td>52.435</td>\n",
       "      <td>15247300.0</td>\n",
       "    </tr>\n",
       "    <tr>\n",
       "      <th>2004-08-25</th>\n",
       "      <td>104.96</td>\n",
       "      <td>108.00</td>\n",
       "      <td>103.88</td>\n",
       "      <td>106.00</td>\n",
       "      <td>9188600.0</td>\n",
       "      <td>0.0</td>\n",
       "      <td>1.0</td>\n",
       "      <td>52.480</td>\n",
       "      <td>54.00</td>\n",
       "      <td>51.940</td>\n",
       "      <td>53.000</td>\n",
       "      <td>9188600.0</td>\n",
       "    </tr>\n",
       "  </tbody>\n",
       "</table>\n",
       "</div>"
      ],
      "text/plain": [
       "              Open    High     Low   Close      Volume  Ex-Dividend  \\\n",
       "Date                                                                  \n",
       "2004-08-19  100.00  104.06   95.96  100.34  44659000.0          0.0   \n",
       "2004-08-20  101.01  109.08  100.50  108.31  22834300.0          0.0   \n",
       "2004-08-23  110.75  113.48  109.05  109.40  18256100.0          0.0   \n",
       "2004-08-24  111.24  111.60  103.57  104.87  15247300.0          0.0   \n",
       "2004-08-25  104.96  108.00  103.88  106.00   9188600.0          0.0   \n",
       "\n",
       "            Split Ratio  Adj. Open  Adj. High  Adj. Low  Adj. Close  \\\n",
       "Date                                                                  \n",
       "2004-08-19          1.0     50.000      52.03    47.980      50.170   \n",
       "2004-08-20          1.0     50.505      54.54    50.250      54.155   \n",
       "2004-08-23          1.0     55.375      56.74    54.525      54.700   \n",
       "2004-08-24          1.0     55.620      55.80    51.785      52.435   \n",
       "2004-08-25          1.0     52.480      54.00    51.940      53.000   \n",
       "\n",
       "            Adj. Volume  \n",
       "Date                     \n",
       "2004-08-19   44659000.0  \n",
       "2004-08-20   22834300.0  \n",
       "2004-08-23   18256100.0  \n",
       "2004-08-24   15247300.0  \n",
       "2004-08-25    9188600.0  "
      ]
     },
     "execution_count": 5,
     "metadata": {},
     "output_type": "execute_result"
    }
   ],
   "source": [
    "df.head()"
   ]
  },
  {
   "cell_type": "code",
   "execution_count": 7,
   "metadata": {
    "collapsed": false
   },
   "outputs": [
    {
     "data": {
      "text/html": [
       "<div>\n",
       "<table border=\"1\" class=\"dataframe\">\n",
       "  <thead>\n",
       "    <tr style=\"text-align: right;\">\n",
       "      <th></th>\n",
       "      <th>Open</th>\n",
       "      <th>High</th>\n",
       "      <th>Low</th>\n",
       "      <th>Close</th>\n",
       "      <th>Volume</th>\n",
       "      <th>Ex-Dividend</th>\n",
       "      <th>Split Ratio</th>\n",
       "      <th>Adj. Open</th>\n",
       "      <th>Adj. High</th>\n",
       "      <th>Adj. Low</th>\n",
       "      <th>Adj. Close</th>\n",
       "      <th>Adj. Volume</th>\n",
       "    </tr>\n",
       "  </thead>\n",
       "  <tbody>\n",
       "    <tr>\n",
       "      <th>count</th>\n",
       "      <td>2948.000000</td>\n",
       "      <td>2948.000000</td>\n",
       "      <td>2948.000000</td>\n",
       "      <td>2948.000000</td>\n",
       "      <td>2.948000e+03</td>\n",
       "      <td>2948.0</td>\n",
       "      <td>2948.0</td>\n",
       "      <td>2948.000000</td>\n",
       "      <td>2948.000000</td>\n",
       "      <td>2948.000000</td>\n",
       "      <td>2948.000000</td>\n",
       "      <td>2.948000e+03</td>\n",
       "    </tr>\n",
       "    <tr>\n",
       "      <th>mean</th>\n",
       "      <td>547.906873</td>\n",
       "      <td>553.215045</td>\n",
       "      <td>542.027564</td>\n",
       "      <td>547.643739</td>\n",
       "      <td>8.798494e+06</td>\n",
       "      <td>0.0</td>\n",
       "      <td>1.0</td>\n",
       "      <td>329.594090</td>\n",
       "      <td>332.726471</td>\n",
       "      <td>326.089288</td>\n",
       "      <td>329.431755</td>\n",
       "      <td>8.798494e+06</td>\n",
       "    </tr>\n",
       "    <tr>\n",
       "      <th>std</th>\n",
       "      <td>199.579325</td>\n",
       "      <td>200.268851</td>\n",
       "      <td>198.527571</td>\n",
       "      <td>199.429059</td>\n",
       "      <td>8.484761e+06</td>\n",
       "      <td>0.0</td>\n",
       "      <td>0.0</td>\n",
       "      <td>171.595528</td>\n",
       "      <td>172.693219</td>\n",
       "      <td>170.158647</td>\n",
       "      <td>171.471923</td>\n",
       "      <td>8.484761e+06</td>\n",
       "    </tr>\n",
       "    <tr>\n",
       "      <th>min</th>\n",
       "      <td>99.190000</td>\n",
       "      <td>101.740000</td>\n",
       "      <td>95.960000</td>\n",
       "      <td>100.010000</td>\n",
       "      <td>5.211410e+05</td>\n",
       "      <td>0.0</td>\n",
       "      <td>1.0</td>\n",
       "      <td>49.595000</td>\n",
       "      <td>50.870000</td>\n",
       "      <td>47.980000</td>\n",
       "      <td>50.005000</td>\n",
       "      <td>5.211410e+05</td>\n",
       "    </tr>\n",
       "    <tr>\n",
       "      <th>25%</th>\n",
       "      <td>431.717500</td>\n",
       "      <td>439.170000</td>\n",
       "      <td>425.552500</td>\n",
       "      <td>432.460000</td>\n",
       "      <td>3.628100e+06</td>\n",
       "      <td>0.0</td>\n",
       "      <td>1.0</td>\n",
       "      <td>215.858750</td>\n",
       "      <td>219.585000</td>\n",
       "      <td>212.776250</td>\n",
       "      <td>216.230000</td>\n",
       "      <td>3.628100e+06</td>\n",
       "    </tr>\n",
       "    <tr>\n",
       "      <th>50%</th>\n",
       "      <td>542.950000</td>\n",
       "      <td>547.025000</td>\n",
       "      <td>537.145000</td>\n",
       "      <td>542.230000</td>\n",
       "      <td>6.028200e+06</td>\n",
       "      <td>0.0</td>\n",
       "      <td>1.0</td>\n",
       "      <td>280.662500</td>\n",
       "      <td>283.915000</td>\n",
       "      <td>277.092500</td>\n",
       "      <td>280.400000</td>\n",
       "      <td>6.028200e+06</td>\n",
       "    </tr>\n",
       "    <tr>\n",
       "      <th>75%</th>\n",
       "      <td>628.002500</td>\n",
       "      <td>634.020000</td>\n",
       "      <td>621.297500</td>\n",
       "      <td>626.062500</td>\n",
       "      <td>1.155565e+07</td>\n",
       "      <td>0.0</td>\n",
       "      <td>1.0</td>\n",
       "      <td>433.428750</td>\n",
       "      <td>436.797500</td>\n",
       "      <td>430.485000</td>\n",
       "      <td>433.350000</td>\n",
       "      <td>1.155565e+07</td>\n",
       "    </tr>\n",
       "    <tr>\n",
       "      <th>max</th>\n",
       "      <td>1226.800000</td>\n",
       "      <td>1228.880000</td>\n",
       "      <td>1218.600000</td>\n",
       "      <td>1220.170000</td>\n",
       "      <td>8.215110e+07</td>\n",
       "      <td>0.0</td>\n",
       "      <td>1.0</td>\n",
       "      <td>800.500000</td>\n",
       "      <td>810.350000</td>\n",
       "      <td>787.200000</td>\n",
       "      <td>793.960000</td>\n",
       "      <td>8.215110e+07</td>\n",
       "    </tr>\n",
       "  </tbody>\n",
       "</table>\n",
       "</div>"
      ],
      "text/plain": [
       "              Open         High          Low        Close        Volume  \\\n",
       "count  2948.000000  2948.000000  2948.000000  2948.000000  2.948000e+03   \n",
       "mean    547.906873   553.215045   542.027564   547.643739  8.798494e+06   \n",
       "std     199.579325   200.268851   198.527571   199.429059  8.484761e+06   \n",
       "min      99.190000   101.740000    95.960000   100.010000  5.211410e+05   \n",
       "25%     431.717500   439.170000   425.552500   432.460000  3.628100e+06   \n",
       "50%     542.950000   547.025000   537.145000   542.230000  6.028200e+06   \n",
       "75%     628.002500   634.020000   621.297500   626.062500  1.155565e+07   \n",
       "max    1226.800000  1228.880000  1218.600000  1220.170000  8.215110e+07   \n",
       "\n",
       "       Ex-Dividend  Split Ratio    Adj. Open    Adj. High     Adj. Low  \\\n",
       "count       2948.0       2948.0  2948.000000  2948.000000  2948.000000   \n",
       "mean           0.0          1.0   329.594090   332.726471   326.089288   \n",
       "std            0.0          0.0   171.595528   172.693219   170.158647   \n",
       "min            0.0          1.0    49.595000    50.870000    47.980000   \n",
       "25%            0.0          1.0   215.858750   219.585000   212.776250   \n",
       "50%            0.0          1.0   280.662500   283.915000   277.092500   \n",
       "75%            0.0          1.0   433.428750   436.797500   430.485000   \n",
       "max            0.0          1.0   800.500000   810.350000   787.200000   \n",
       "\n",
       "        Adj. Close   Adj. Volume  \n",
       "count  2948.000000  2.948000e+03  \n",
       "mean    329.431755  8.798494e+06  \n",
       "std     171.471923  8.484761e+06  \n",
       "min      50.005000  5.211410e+05  \n",
       "25%     216.230000  3.628100e+06  \n",
       "50%     280.400000  6.028200e+06  \n",
       "75%     433.350000  1.155565e+07  \n",
       "max     793.960000  8.215110e+07  "
      ]
     },
     "execution_count": 7,
     "metadata": {},
     "output_type": "execute_result"
    }
   ],
   "source": [
    "df.describe()"
   ]
  },
  {
   "cell_type": "code",
   "execution_count": 11,
   "metadata": {
    "collapsed": false
   },
   "outputs": [
    {
     "data": {
      "text/plain": [
       "(Timestamp('2004-08-19 00:00:00'), Timestamp('2016-05-20 00:00:00'))"
      ]
     },
     "execution_count": 11,
     "metadata": {},
     "output_type": "execute_result"
    }
   ],
   "source": [
    "df.index.min(), df.index.max()"
   ]
  },
  {
   "cell_type": "code",
   "execution_count": 12,
   "metadata": {
    "collapsed": true
   },
   "outputs": [],
   "source": [
    "import numpy as np"
   ]
  },
  {
   "cell_type": "code",
   "execution_count": 21,
   "metadata": {
    "collapsed": false
   },
   "outputs": [
    {
     "name": "stdout",
     "output_type": "stream",
     "text": [
      "[[ 1.          0.99950893  0.99970672  0.99962496]\n",
      " [ 0.99950893  1.          0.99955576  0.99968911]\n",
      " [ 0.99970672  0.99955576  1.          0.99925693]\n",
      " [ 0.99962496  0.99968911  0.99925693  1.        ]]\n"
     ]
    }
   ],
   "source": [
    "print np.corrcoef([df.High, df.Low, df.Open, df.Close])"
   ]
  },
  {
   "cell_type": "code",
   "execution_count": 22,
   "metadata": {
    "collapsed": true
   },
   "outputs": [],
   "source": [
    "df= df[['Adj. Open', 'Adj. Close', 'Adj. High', 'Adj. Low', 'Adj. Volume']]"
   ]
  },
  {
   "cell_type": "code",
   "execution_count": 23,
   "metadata": {
    "collapsed": false
   },
   "outputs": [
    {
     "data": {
      "text/html": [
       "<div>\n",
       "<table border=\"1\" class=\"dataframe\">\n",
       "  <thead>\n",
       "    <tr style=\"text-align: right;\">\n",
       "      <th></th>\n",
       "      <th>Adj. Open</th>\n",
       "      <th>Adj. Close</th>\n",
       "      <th>Adj. High</th>\n",
       "      <th>Adj. Low</th>\n",
       "      <th>Adj. Volume</th>\n",
       "    </tr>\n",
       "    <tr>\n",
       "      <th>Date</th>\n",
       "      <th></th>\n",
       "      <th></th>\n",
       "      <th></th>\n",
       "      <th></th>\n",
       "      <th></th>\n",
       "    </tr>\n",
       "  </thead>\n",
       "  <tbody>\n",
       "    <tr>\n",
       "      <th>2004-08-19</th>\n",
       "      <td>50.000</td>\n",
       "      <td>50.170</td>\n",
       "      <td>52.03</td>\n",
       "      <td>47.980</td>\n",
       "      <td>44659000.0</td>\n",
       "    </tr>\n",
       "    <tr>\n",
       "      <th>2004-08-20</th>\n",
       "      <td>50.505</td>\n",
       "      <td>54.155</td>\n",
       "      <td>54.54</td>\n",
       "      <td>50.250</td>\n",
       "      <td>22834300.0</td>\n",
       "    </tr>\n",
       "    <tr>\n",
       "      <th>2004-08-23</th>\n",
       "      <td>55.375</td>\n",
       "      <td>54.700</td>\n",
       "      <td>56.74</td>\n",
       "      <td>54.525</td>\n",
       "      <td>18256100.0</td>\n",
       "    </tr>\n",
       "    <tr>\n",
       "      <th>2004-08-24</th>\n",
       "      <td>55.620</td>\n",
       "      <td>52.435</td>\n",
       "      <td>55.80</td>\n",
       "      <td>51.785</td>\n",
       "      <td>15247300.0</td>\n",
       "    </tr>\n",
       "    <tr>\n",
       "      <th>2004-08-25</th>\n",
       "      <td>52.480</td>\n",
       "      <td>53.000</td>\n",
       "      <td>54.00</td>\n",
       "      <td>51.940</td>\n",
       "      <td>9188600.0</td>\n",
       "    </tr>\n",
       "  </tbody>\n",
       "</table>\n",
       "</div>"
      ],
      "text/plain": [
       "            Adj. Open  Adj. Close  Adj. High  Adj. Low  Adj. Volume\n",
       "Date                                                               \n",
       "2004-08-19     50.000      50.170      52.03    47.980   44659000.0\n",
       "2004-08-20     50.505      54.155      54.54    50.250   22834300.0\n",
       "2004-08-23     55.375      54.700      56.74    54.525   18256100.0\n",
       "2004-08-24     55.620      52.435      55.80    51.785   15247300.0\n",
       "2004-08-25     52.480      53.000      54.00    51.940    9188600.0"
      ]
     },
     "execution_count": 23,
     "metadata": {},
     "output_type": "execute_result"
    }
   ],
   "source": [
    "df.head()"
   ]
  },
  {
   "cell_type": "code",
   "execution_count": 25,
   "metadata": {
    "collapsed": false
   },
   "outputs": [
    {
     "name": "stderr",
     "output_type": "stream",
     "text": [
      "/home/arko/anaconda/lib/python2.7/site-packages/ipykernel/__main__.py:1: SettingWithCopyWarning: \n",
      "A value is trying to be set on a copy of a slice from a DataFrame.\n",
      "Try using .loc[row_indexer,col_indexer] = value instead\n",
      "\n",
      "See the caveats in the documentation: http://pandas.pydata.org/pandas-docs/stable/indexing.html#indexing-view-versus-copy\n",
      "  if __name__ == '__main__':\n"
     ]
    }
   ],
   "source": [
    "df['hl_pct'] = (df['Adj. High'] - df['Adj. Low'])/df['Adj. Low'] * 100.0"
   ]
  },
  {
   "cell_type": "code",
   "execution_count": 26,
   "metadata": {
    "collapsed": false
   },
   "outputs": [
    {
     "name": "stderr",
     "output_type": "stream",
     "text": [
      "/home/arko/anaconda/lib/python2.7/site-packages/ipykernel/__main__.py:1: SettingWithCopyWarning: \n",
      "A value is trying to be set on a copy of a slice from a DataFrame.\n",
      "Try using .loc[row_indexer,col_indexer] = value instead\n",
      "\n",
      "See the caveats in the documentation: http://pandas.pydata.org/pandas-docs/stable/indexing.html#indexing-view-versus-copy\n",
      "  if __name__ == '__main__':\n"
     ]
    }
   ],
   "source": [
    "df['pct_change'] = (df['Adj. Close'] - df['Adj. Open'])/df['Adj. Open'] * 100.0"
   ]
  },
  {
   "cell_type": "code",
   "execution_count": 27,
   "metadata": {
    "collapsed": false
   },
   "outputs": [
    {
     "data": {
      "text/html": [
       "<div>\n",
       "<table border=\"1\" class=\"dataframe\">\n",
       "  <thead>\n",
       "    <tr style=\"text-align: right;\">\n",
       "      <th></th>\n",
       "      <th>Adj. Open</th>\n",
       "      <th>Adj. Close</th>\n",
       "      <th>Adj. High</th>\n",
       "      <th>Adj. Low</th>\n",
       "      <th>Adj. Volume</th>\n",
       "      <th>hl_pct</th>\n",
       "      <th>pct_change</th>\n",
       "    </tr>\n",
       "    <tr>\n",
       "      <th>Date</th>\n",
       "      <th></th>\n",
       "      <th></th>\n",
       "      <th></th>\n",
       "      <th></th>\n",
       "      <th></th>\n",
       "      <th></th>\n",
       "      <th></th>\n",
       "    </tr>\n",
       "  </thead>\n",
       "  <tbody>\n",
       "    <tr>\n",
       "      <th>2004-08-19</th>\n",
       "      <td>50.000</td>\n",
       "      <td>50.170</td>\n",
       "      <td>52.03</td>\n",
       "      <td>47.980</td>\n",
       "      <td>44659000.0</td>\n",
       "      <td>8.441017</td>\n",
       "      <td>0.340000</td>\n",
       "    </tr>\n",
       "    <tr>\n",
       "      <th>2004-08-20</th>\n",
       "      <td>50.505</td>\n",
       "      <td>54.155</td>\n",
       "      <td>54.54</td>\n",
       "      <td>50.250</td>\n",
       "      <td>22834300.0</td>\n",
       "      <td>8.537313</td>\n",
       "      <td>7.227007</td>\n",
       "    </tr>\n",
       "    <tr>\n",
       "      <th>2004-08-23</th>\n",
       "      <td>55.375</td>\n",
       "      <td>54.700</td>\n",
       "      <td>56.74</td>\n",
       "      <td>54.525</td>\n",
       "      <td>18256100.0</td>\n",
       "      <td>4.062357</td>\n",
       "      <td>-1.218962</td>\n",
       "    </tr>\n",
       "    <tr>\n",
       "      <th>2004-08-24</th>\n",
       "      <td>55.620</td>\n",
       "      <td>52.435</td>\n",
       "      <td>55.80</td>\n",
       "      <td>51.785</td>\n",
       "      <td>15247300.0</td>\n",
       "      <td>7.753210</td>\n",
       "      <td>-5.726357</td>\n",
       "    </tr>\n",
       "    <tr>\n",
       "      <th>2004-08-25</th>\n",
       "      <td>52.480</td>\n",
       "      <td>53.000</td>\n",
       "      <td>54.00</td>\n",
       "      <td>51.940</td>\n",
       "      <td>9188600.0</td>\n",
       "      <td>3.966115</td>\n",
       "      <td>0.990854</td>\n",
       "    </tr>\n",
       "  </tbody>\n",
       "</table>\n",
       "</div>"
      ],
      "text/plain": [
       "            Adj. Open  Adj. Close  Adj. High  Adj. Low  Adj. Volume    hl_pct  \\\n",
       "Date                                                                            \n",
       "2004-08-19     50.000      50.170      52.03    47.980   44659000.0  8.441017   \n",
       "2004-08-20     50.505      54.155      54.54    50.250   22834300.0  8.537313   \n",
       "2004-08-23     55.375      54.700      56.74    54.525   18256100.0  4.062357   \n",
       "2004-08-24     55.620      52.435      55.80    51.785   15247300.0  7.753210   \n",
       "2004-08-25     52.480      53.000      54.00    51.940    9188600.0  3.966115   \n",
       "\n",
       "            pct_change  \n",
       "Date                    \n",
       "2004-08-19    0.340000  \n",
       "2004-08-20    7.227007  \n",
       "2004-08-23   -1.218962  \n",
       "2004-08-24   -5.726357  \n",
       "2004-08-25    0.990854  "
      ]
     },
     "execution_count": 27,
     "metadata": {},
     "output_type": "execute_result"
    }
   ],
   "source": [
    "df.head()"
   ]
  },
  {
   "cell_type": "code",
   "execution_count": 28,
   "metadata": {
    "collapsed": true
   },
   "outputs": [],
   "source": [
    "df= df[['Adj. Close', 'hl_pct', 'pct_change', 'Adj. Volume']]"
   ]
  },
  {
   "cell_type": "code",
   "execution_count": 29,
   "metadata": {
    "collapsed": false
   },
   "outputs": [
    {
     "data": {
      "text/html": [
       "<div>\n",
       "<table border=\"1\" class=\"dataframe\">\n",
       "  <thead>\n",
       "    <tr style=\"text-align: right;\">\n",
       "      <th></th>\n",
       "      <th>Adj. Close</th>\n",
       "      <th>hl_pct</th>\n",
       "      <th>pct_change</th>\n",
       "      <th>Adj. Volume</th>\n",
       "    </tr>\n",
       "    <tr>\n",
       "      <th>Date</th>\n",
       "      <th></th>\n",
       "      <th></th>\n",
       "      <th></th>\n",
       "      <th></th>\n",
       "    </tr>\n",
       "  </thead>\n",
       "  <tbody>\n",
       "    <tr>\n",
       "      <th>2004-08-19</th>\n",
       "      <td>50.170</td>\n",
       "      <td>8.441017</td>\n",
       "      <td>0.340000</td>\n",
       "      <td>44659000.0</td>\n",
       "    </tr>\n",
       "    <tr>\n",
       "      <th>2004-08-20</th>\n",
       "      <td>54.155</td>\n",
       "      <td>8.537313</td>\n",
       "      <td>7.227007</td>\n",
       "      <td>22834300.0</td>\n",
       "    </tr>\n",
       "    <tr>\n",
       "      <th>2004-08-23</th>\n",
       "      <td>54.700</td>\n",
       "      <td>4.062357</td>\n",
       "      <td>-1.218962</td>\n",
       "      <td>18256100.0</td>\n",
       "    </tr>\n",
       "    <tr>\n",
       "      <th>2004-08-24</th>\n",
       "      <td>52.435</td>\n",
       "      <td>7.753210</td>\n",
       "      <td>-5.726357</td>\n",
       "      <td>15247300.0</td>\n",
       "    </tr>\n",
       "    <tr>\n",
       "      <th>2004-08-25</th>\n",
       "      <td>53.000</td>\n",
       "      <td>3.966115</td>\n",
       "      <td>0.990854</td>\n",
       "      <td>9188600.0</td>\n",
       "    </tr>\n",
       "  </tbody>\n",
       "</table>\n",
       "</div>"
      ],
      "text/plain": [
       "            Adj. Close    hl_pct  pct_change  Adj. Volume\n",
       "Date                                                     \n",
       "2004-08-19      50.170  8.441017    0.340000   44659000.0\n",
       "2004-08-20      54.155  8.537313    7.227007   22834300.0\n",
       "2004-08-23      54.700  4.062357   -1.218962   18256100.0\n",
       "2004-08-24      52.435  7.753210   -5.726357   15247300.0\n",
       "2004-08-25      53.000  3.966115    0.990854    9188600.0"
      ]
     },
     "execution_count": 29,
     "metadata": {},
     "output_type": "execute_result"
    }
   ],
   "source": [
    "df.head()"
   ]
  },
  {
   "cell_type": "code",
   "execution_count": 30,
   "metadata": {
    "collapsed": true
   },
   "outputs": [],
   "source": [
    "df.fillna(-99999, inplace= True)"
   ]
  },
  {
   "cell_type": "code",
   "execution_count": 39,
   "metadata": {
    "collapsed": false
   },
   "outputs": [
    {
     "data": {
      "text/plain": [
       "30"
      ]
     },
     "execution_count": 39,
     "metadata": {},
     "output_type": "execute_result"
    }
   ],
   "source": [
    "import math\n",
    "forecast_col= 'Adj. Close'\n",
    "forecast_out= int(math.ceil(0.01*len(df)))\n",
    "forecast_out"
   ]
  },
  {
   "cell_type": "code",
   "execution_count": 40,
   "metadata": {
    "collapsed": false
   },
   "outputs": [
    {
     "data": {
      "text/html": [
       "<div>\n",
       "<table border=\"1\" class=\"dataframe\">\n",
       "  <thead>\n",
       "    <tr style=\"text-align: right;\">\n",
       "      <th></th>\n",
       "      <th>Adj. Close</th>\n",
       "      <th>hl_pct</th>\n",
       "      <th>pct_change</th>\n",
       "      <th>Adj. Volume</th>\n",
       "      <th>label</th>\n",
       "    </tr>\n",
       "    <tr>\n",
       "      <th>Date</th>\n",
       "      <th></th>\n",
       "      <th></th>\n",
       "      <th></th>\n",
       "      <th></th>\n",
       "      <th></th>\n",
       "    </tr>\n",
       "  </thead>\n",
       "  <tbody>\n",
       "    <tr>\n",
       "      <th>2004-08-19</th>\n",
       "      <td>50.170</td>\n",
       "      <td>8.441017</td>\n",
       "      <td>0.340000</td>\n",
       "      <td>44659000.0</td>\n",
       "      <td>66.290</td>\n",
       "    </tr>\n",
       "    <tr>\n",
       "      <th>2004-08-20</th>\n",
       "      <td>54.155</td>\n",
       "      <td>8.537313</td>\n",
       "      <td>7.227007</td>\n",
       "      <td>22834300.0</td>\n",
       "      <td>67.530</td>\n",
       "    </tr>\n",
       "    <tr>\n",
       "      <th>2004-08-23</th>\n",
       "      <td>54.700</td>\n",
       "      <td>4.062357</td>\n",
       "      <td>-1.218962</td>\n",
       "      <td>18256100.0</td>\n",
       "      <td>69.185</td>\n",
       "    </tr>\n",
       "    <tr>\n",
       "      <th>2004-08-24</th>\n",
       "      <td>52.435</td>\n",
       "      <td>7.753210</td>\n",
       "      <td>-5.726357</td>\n",
       "      <td>15247300.0</td>\n",
       "      <td>68.540</td>\n",
       "    </tr>\n",
       "    <tr>\n",
       "      <th>2004-08-25</th>\n",
       "      <td>53.000</td>\n",
       "      <td>3.966115</td>\n",
       "      <td>0.990854</td>\n",
       "      <td>9188600.0</td>\n",
       "      <td>69.425</td>\n",
       "    </tr>\n",
       "  </tbody>\n",
       "</table>\n",
       "</div>"
      ],
      "text/plain": [
       "            Adj. Close    hl_pct  pct_change  Adj. Volume   label\n",
       "Date                                                             \n",
       "2004-08-19      50.170  8.441017    0.340000   44659000.0  66.290\n",
       "2004-08-20      54.155  8.537313    7.227007   22834300.0  67.530\n",
       "2004-08-23      54.700  4.062357   -1.218962   18256100.0  69.185\n",
       "2004-08-24      52.435  7.753210   -5.726357   15247300.0  68.540\n",
       "2004-08-25      53.000  3.966115    0.990854    9188600.0  69.425"
      ]
     },
     "execution_count": 40,
     "metadata": {},
     "output_type": "execute_result"
    }
   ],
   "source": [
    "df['label']= df[forecast_col].shift(-forecast_out)\n",
    "df.head()"
   ]
  },
  {
   "cell_type": "code",
   "execution_count": 41,
   "metadata": {
    "collapsed": false
   },
   "outputs": [
    {
     "data": {
      "text/html": [
       "<div>\n",
       "<table border=\"1\" class=\"dataframe\">\n",
       "  <thead>\n",
       "    <tr style=\"text-align: right;\">\n",
       "      <th></th>\n",
       "      <th>Adj. Close</th>\n",
       "      <th>hl_pct</th>\n",
       "      <th>pct_change</th>\n",
       "      <th>Adj. Volume</th>\n",
       "      <th>label</th>\n",
       "    </tr>\n",
       "    <tr>\n",
       "      <th>Date</th>\n",
       "      <th></th>\n",
       "      <th></th>\n",
       "      <th></th>\n",
       "      <th></th>\n",
       "      <th></th>\n",
       "    </tr>\n",
       "  </thead>\n",
       "  <tbody>\n",
       "    <tr>\n",
       "      <th>2016-05-16</th>\n",
       "      <td>730.30</td>\n",
       "      <td>1.761111</td>\n",
       "      <td>0.825602</td>\n",
       "      <td>1106682.0</td>\n",
       "      <td>NaN</td>\n",
       "    </tr>\n",
       "    <tr>\n",
       "      <th>2016-05-17</th>\n",
       "      <td>720.19</td>\n",
       "      <td>2.486072</td>\n",
       "      <td>-1.486882</td>\n",
       "      <td>1631175.0</td>\n",
       "      <td>NaN</td>\n",
       "    </tr>\n",
       "    <tr>\n",
       "      <th>2016-05-18</th>\n",
       "      <td>721.78</td>\n",
       "      <td>1.475483</td>\n",
       "      <td>0.456507</td>\n",
       "      <td>1607604.0</td>\n",
       "      <td>NaN</td>\n",
       "    </tr>\n",
       "    <tr>\n",
       "      <th>2016-05-19</th>\n",
       "      <td>715.31</td>\n",
       "      <td>1.435299</td>\n",
       "      <td>-0.416261</td>\n",
       "      <td>1488030.0</td>\n",
       "      <td>NaN</td>\n",
       "    </tr>\n",
       "    <tr>\n",
       "      <th>2016-05-20</th>\n",
       "      <td>721.71</td>\n",
       "      <td>1.774800</td>\n",
       "      <td>0.732769</td>\n",
       "      <td>1710030.0</td>\n",
       "      <td>NaN</td>\n",
       "    </tr>\n",
       "  </tbody>\n",
       "</table>\n",
       "</div>"
      ],
      "text/plain": [
       "            Adj. Close    hl_pct  pct_change  Adj. Volume  label\n",
       "Date                                                            \n",
       "2016-05-16      730.30  1.761111    0.825602    1106682.0    NaN\n",
       "2016-05-17      720.19  2.486072   -1.486882    1631175.0    NaN\n",
       "2016-05-18      721.78  1.475483    0.456507    1607604.0    NaN\n",
       "2016-05-19      715.31  1.435299   -0.416261    1488030.0    NaN\n",
       "2016-05-20      721.71  1.774800    0.732769    1710030.0    NaN"
      ]
     },
     "execution_count": 41,
     "metadata": {},
     "output_type": "execute_result"
    }
   ],
   "source": [
    "df.tail()"
   ]
  },
  {
   "cell_type": "code",
   "execution_count": 42,
   "metadata": {
    "collapsed": false
   },
   "outputs": [
    {
     "data": {
      "text/plain": [
       "(2948, 5)"
      ]
     },
     "execution_count": 42,
     "metadata": {},
     "output_type": "execute_result"
    }
   ],
   "source": [
    "df.shape"
   ]
  },
  {
   "cell_type": "code",
   "execution_count": 43,
   "metadata": {
    "collapsed": true
   },
   "outputs": [],
   "source": [
    "df.dropna(inplace=True)"
   ]
  },
  {
   "cell_type": "code",
   "execution_count": 44,
   "metadata": {
    "collapsed": false
   },
   "outputs": [
    {
     "data": {
      "text/plain": [
       "(2918, 5)"
      ]
     },
     "execution_count": 44,
     "metadata": {},
     "output_type": "execute_result"
    }
   ],
   "source": [
    "df.shape"
   ]
  },
  {
   "cell_type": "code",
   "execution_count": 45,
   "metadata": {
    "collapsed": true
   },
   "outputs": [],
   "source": [
    "from sklearn import preprocessing"
   ]
  },
  {
   "cell_type": "code",
   "execution_count": null,
   "metadata": {
    "collapsed": true
   },
   "outputs": [],
   "source": []
  }
 ],
 "metadata": {
  "kernelspec": {
   "display_name": "Python 2",
   "language": "python",
   "name": "python2"
  },
  "language_info": {
   "codemirror_mode": {
    "name": "ipython",
    "version": 2
   },
   "file_extension": ".py",
   "mimetype": "text/x-python",
   "name": "python",
   "nbconvert_exporter": "python",
   "pygments_lexer": "ipython2",
   "version": "2.7.11"
  }
 },
 "nbformat": 4,
 "nbformat_minor": 0
}
