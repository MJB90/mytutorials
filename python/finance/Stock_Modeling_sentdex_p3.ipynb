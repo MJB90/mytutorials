{
 "cells": [
  {
   "cell_type": "code",
   "execution_count": 31,
   "metadata": {
    "collapsed": true
   },
   "outputs": [],
   "source": [
    "import pandas as pd\n",
    "import numpy as np\n",
    "import pickle"
   ]
  },
  {
   "cell_type": "code",
   "execution_count": 32,
   "metadata": {
    "collapsed": true
   },
   "outputs": [],
   "source": [
    "def processData (ticker):\n",
    "    hm_days = 7\n",
    "    df = pd.read_csv('../data/sp500_joined_closes.csv', index_col= 0)\n",
    "    tickers = df.columns.values.tolist()\n",
    "    df.fillna(0, inplace = True)\n",
    "    \n",
    "    for i in range(1, hm_days+1):\n",
    "        df['{}_{}d'.format(ticker, i)] = (df[ticker].shift(-i) - df[ticker]) / df[ticker]\n",
    "        \n",
    "    df.fillna(0, inplace = True)\n",
    "    return tickers, df"
   ]
  },
  {
   "cell_type": "code",
   "execution_count": 33,
   "metadata": {
    "collapsed": false
   },
   "outputs": [],
   "source": [
    "t,d = processData('AAPL')"
   ]
  },
  {
   "cell_type": "code",
   "execution_count": 34,
   "metadata": {
    "collapsed": false
   },
   "outputs": [
    {
     "data": {
      "text/html": [
       "<div>\n",
       "<table border=\"1\" class=\"dataframe\">\n",
       "  <thead>\n",
       "    <tr style=\"text-align: right;\">\n",
       "      <th></th>\n",
       "      <th>AAPL</th>\n",
       "      <th>AAPL_1d</th>\n",
       "      <th>AAPL_2d</th>\n",
       "    </tr>\n",
       "    <tr>\n",
       "      <th>Date</th>\n",
       "      <th></th>\n",
       "      <th></th>\n",
       "      <th></th>\n",
       "    </tr>\n",
       "  </thead>\n",
       "  <tbody>\n",
       "    <tr>\n",
       "      <th>2007-01-03</th>\n",
       "      <td>10.857091</td>\n",
       "      <td>0.022196</td>\n",
       "      <td>0.014916</td>\n",
       "    </tr>\n",
       "    <tr>\n",
       "      <th>2007-01-04</th>\n",
       "      <td>11.098071</td>\n",
       "      <td>-0.007121</td>\n",
       "      <td>-0.002218</td>\n",
       "    </tr>\n",
       "    <tr>\n",
       "      <th>2007-01-05</th>\n",
       "      <td>11.019039</td>\n",
       "      <td>0.004938</td>\n",
       "      <td>0.088419</td>\n",
       "    </tr>\n",
       "    <tr>\n",
       "      <th>2007-01-08</th>\n",
       "      <td>11.073455</td>\n",
       "      <td>0.083070</td>\n",
       "      <td>0.134901</td>\n",
       "    </tr>\n",
       "    <tr>\n",
       "      <th>2007-01-09</th>\n",
       "      <td>11.993328</td>\n",
       "      <td>0.047856</td>\n",
       "      <td>0.034892</td>\n",
       "    </tr>\n",
       "  </tbody>\n",
       "</table>\n",
       "</div>"
      ],
      "text/plain": [
       "                 AAPL   AAPL_1d   AAPL_2d\n",
       "Date                                     \n",
       "2007-01-03  10.857091  0.022196  0.014916\n",
       "2007-01-04  11.098071 -0.007121 -0.002218\n",
       "2007-01-05  11.019039  0.004938  0.088419\n",
       "2007-01-08  11.073455  0.083070  0.134901\n",
       "2007-01-09  11.993328  0.047856  0.034892"
      ]
     },
     "execution_count": 34,
     "metadata": {},
     "output_type": "execute_result"
    }
   ],
   "source": [
    "dx = d[['AAPL', 'AAPL_1d', 'AAPL_2d']]\n",
    "dx.head()"
   ]
  },
  {
   "cell_type": "code",
   "execution_count": 35,
   "metadata": {
    "collapsed": true
   },
   "outputs": [],
   "source": [
    "def buy_sell_hold(*args):\n",
    "    cols = [c for c in args]\n",
    "    requirement = 0.02\n",
    "    retVal = 0\n",
    "    for col in cols:\n",
    "        if col > requirement:\n",
    "            retVal = 1\n",
    "        if col < -requirement:\n",
    "            retVal = -1\n",
    "    return retVal"
   ]
  },
  {
   "cell_type": "code",
   "execution_count": 36,
   "metadata": {
    "collapsed": true
   },
   "outputs": [],
   "source": [
    "from collections import Counter"
   ]
  },
  {
   "cell_type": "code",
   "execution_count": 37,
   "metadata": {
    "collapsed": true
   },
   "outputs": [],
   "source": [
    "def extract_features(ticker):\n",
    "    tickers, df = processData(ticker)\n",
    "    hm_days = 7\n",
    "    df['{}_target'.format(ticker)] = list(map(buy_sell_hold, \n",
    "                                              *[df['{}_{}d'.format(ticker, i)] for i in range(1, hm_days+1)]\n",
    "                                             ))\n",
    "    \n",
    "    vals = df['{}_target'.format(ticker)].values.tolist()\n",
    "    str_vals = [str(i) for i in vals]\n",
    "    print(\"Data spread:\", Counter(str_vals))\n",
    "    \n",
    "    df.fillna(0, inplace = True)\n",
    "    df = df.replace([np.inf, -np.inf], np.nan)\n",
    "    df.dropna(inplace = True)\n",
    "    \n",
    "    df_vals = df[[ticker for ticker in tickers]].pct_change()\n",
    "    df_vals = df_vals.replace([np.inf, -np.inf], 0)\n",
    "    df_vals.fillna(0, inplace = True)\n",
    "    \n",
    "    X = df_vals.values\n",
    "    y = df['{}_target'.format(ticker)].values\n",
    "    \n",
    "    return X, y, df"
   ]
  },
  {
   "cell_type": "code",
   "execution_count": 41,
   "metadata": {
    "collapsed": false
   },
   "outputs": [
    {
     "name": "stdout",
     "output_type": "stream",
     "text": [
      "Data spread: Counter({'1': 1255, '-1': 952, '0': 311})\n"
     ]
    }
   ],
   "source": [
    "X, y, df = extract_features('AAPL')"
   ]
  },
  {
   "cell_type": "code",
   "execution_count": 42,
   "metadata": {
    "collapsed": false
   },
   "outputs": [
    {
     "name": "stderr",
     "output_type": "stream",
     "text": [
      "/home/asn/anaconda2/envs/py35/lib/python3.5/site-packages/sklearn/cross_validation.py:44: DeprecationWarning: This module was deprecated in version 0.18 in favor of the model_selection module into which all the refactored classes and functions are moved. Also note that the interface of the new CV iterators are different from that of this module. This module will be removed in 0.20.\n",
      "  \"This module will be removed in 0.20.\", DeprecationWarning)\n"
     ]
    }
   ],
   "source": [
    "from sklearn import svm, cross_validation, neighbors\n",
    "from sklearn.ensemble import VotingClassifier, RandomForestClassifier"
   ]
  },
  {
   "cell_type": "code",
   "execution_count": 46,
   "metadata": {
    "collapsed": true
   },
   "outputs": [],
   "source": [
    "def buildModel(ticker):\n",
    "    X, y, df = extract_features(ticker)\n",
    "    \n",
    "    X_train, X_test, y_train, y_test = cross_validation.train_test_split(X, y, test_size= 0.25)\n",
    "    \n",
    "#     clf = neighbors.KNeighborsClassifier()\n",
    "    clf = VotingClassifier([('linearSVC', svm.LinearSVC()), \n",
    "                            ('knn', neighbors.KNeighborsClassifier()),\n",
    "                            ('randomForest', RandomForestClassifier())])\n",
    "                                                             \n",
    "    clf.fit(X_train, y_train)\n",
    "    \n",
    "    confidence = clf.score(X_test, y_test)\n",
    "    print(\"Accuracy = \", confidence)\n",
    "    \n",
    "    preds = clf.predict(X_test)\n",
    "    print(\"Predictions Spread\", Counter(preds))\n",
    "    \n",
    "    return confidence "
   ]
  },
  {
   "cell_type": "code",
   "execution_count": 50,
   "metadata": {
    "collapsed": false
   },
   "outputs": [
    {
     "name": "stdout",
     "output_type": "stream",
     "text": [
      "Data spread: Counter({'1': 1140, '-1': 944, '0': 434})\n",
      "Accuracy =  0.401587301587\n",
      "Predictions Spread Counter({1: 373, -1: 245, 0: 12})\n"
     ]
    },
    {
     "data": {
      "text/plain": [
       "0.4015873015873016"
      ]
     },
     "execution_count": 50,
     "metadata": {},
     "output_type": "execute_result"
    }
   ],
   "source": [
    "buildModel('GOOG')"
   ]
  },
  {
   "cell_type": "code",
   "execution_count": null,
   "metadata": {
    "collapsed": true
   },
   "outputs": [],
   "source": []
  }
 ],
 "metadata": {
  "kernelspec": {
   "display_name": "Python 3",
   "language": "python",
   "name": "python3"
  },
  "language_info": {
   "codemirror_mode": {
    "name": "ipython",
    "version": 3
   },
   "file_extension": ".py",
   "mimetype": "text/x-python",
   "name": "python",
   "nbconvert_exporter": "python",
   "pygments_lexer": "ipython3",
   "version": "3.5.2"
  }
 },
 "nbformat": 4,
 "nbformat_minor": 2
}
